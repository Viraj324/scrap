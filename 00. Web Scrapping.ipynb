{
 "cells": [
  {
   "cell_type": "code",
   "execution_count": 1,
   "id": "b4c96971-f668-4f6e-9d1b-7525e575bfe3",
   "metadata": {},
   "outputs": [],
   "source": [
    "import numpy as np\n",
    "import pandas as pd\n",
    "import seaborn as sns\n",
    "from bs4 import BeautifulSoup\n",
    "import requests as req"
   ]
  },
  {
   "cell_type": "code",
   "execution_count": 2,
   "id": "237d212b-4282-4daf-a3bc-95587533222e",
   "metadata": {},
   "outputs": [],
   "source": [
    "url = 'https://www.amazon.in/Rockerz-450-Wireless-Bluetooth-Headphone/product-reviews/B07PR1CL3S/ref=cm_cr_othr_d_show_all_btm?ie=UTF8&reviewerType=all_reviews'\n",
    "headers = {\n",
    "    'User-Agent' : 'Mozilla/5.0 (Windows NT 10.0; Win64; x64) AppleWebKit/537.36 (KHTML, like Gecko) Chrome/124.0.0.0 Safari/537.36'\n",
    "}"
   ]
  },
  {
   "cell_type": "code",
   "execution_count": 3,
   "id": "2d5008e2-cc1c-4023-a2ad-82c67aa49475",
   "metadata": {},
   "outputs": [],
   "source": [
    "res = req.get(url, headers=headers)"
   ]
  },
  {
   "cell_type": "code",
   "execution_count": 17,
   "id": "9243782b-74e8-48ea-961a-e41c69304af1",
   "metadata": {},
   "outputs": [],
   "source": [
    "soup = BeautifulSoup(res.text, 'html.parser')\n",
    "# print(soup.prettify())"
   ]
  },
  {
   "cell_type": "markdown",
   "id": "a0928efe-5846-4cbb-8173-8a00795fe7e0",
   "metadata": {},
   "source": [
    "# Getting customer names"
   ]
  },
  {
   "cell_type": "code",
   "execution_count": 5,
   "id": "2f0d59f3-b167-4985-9900-baf8f622d4ae",
   "metadata": {},
   "outputs": [
    {
     "data": {
      "text/plain": [
       "['Omar',\n",
       " 'Gizmofreak Reviews',\n",
       " 'Omar',\n",
       " 'Das',\n",
       " 'C Narayana',\n",
       " 'Amazon Customer',\n",
       " 'Gizmofreak Reviews',\n",
       " 'Deepa Pareek',\n",
       " 'Vishnu Vardhan',\n",
       " 'Deal State',\n",
       " 'Deal State',\n",
       " 'suraj yadav',\n",
       " 'sagar']"
      ]
     },
     "execution_count": 5,
     "metadata": {},
     "output_type": "execute_result"
    }
   ],
   "source": [
    "customer_names = []\n",
    "customer_names_raw = soup.find_all(class_='a-profile-name')\n",
    "\n",
    "for cust in customer_names_raw:\n",
    "    customer_names.append(cust.text)\n",
    "\n",
    "customer_names"
   ]
  },
  {
   "cell_type": "markdown",
   "id": "04c7b049-6ca0-4d4a-b5aa-43af5e0855d6",
   "metadata": {},
   "source": [
    "# Getting Customer ratings out of 5"
   ]
  },
  {
   "cell_type": "code",
   "execution_count": 6,
   "id": "98542e6f-f197-4931-834c-741424e9e9af",
   "metadata": {},
   "outputs": [
    {
     "data": {
      "text/plain": [
       "['4.1 out of 5 stars',\n",
       " '5.0 out of 5 stars',\n",
       " '1.0 out of 5 stars',\n",
       " '5.0 out of 5 stars',\n",
       " '4.0 out of 5 stars',\n",
       " '5.0 out of 5 stars',\n",
       " '5.0 out of 5 stars',\n",
       " '1.0 out of 5 stars',\n",
       " '3.0 out of 5 stars',\n",
       " '4.0 out of 5 stars',\n",
       " '5.0 out of 5 stars',\n",
       " '5.0 out of 5 stars',\n",
       " '4.0 out of 5 stars',\n",
       " '4.0 out of 5 stars']"
      ]
     },
     "execution_count": 6,
     "metadata": {},
     "output_type": "execute_result"
    }
   ],
   "source": [
    "customer_ratings = []\n",
    "customer_ratings_raw = soup.find_all(class_ = 'a-icon-alt')\n",
    "\n",
    "for ratings in customer_ratings_raw:\n",
    "    customer_ratings.append(ratings.text)\n",
    "customer_ratings"
   ]
  },
  {
   "cell_type": "markdown",
   "id": "f16ebf9c-5370-4943-b80c-1d702c1a51f7",
   "metadata": {},
   "source": [
    "# Getting review date"
   ]
  },
  {
   "cell_type": "code",
   "execution_count": 7,
   "id": "a2cea5b3-e358-45e4-8c76-2a7a50da2dc6",
   "metadata": {},
   "outputs": [
    {
     "data": {
      "text/plain": [
       "['21 April 2024',\n",
       " '22 August 2019',\n",
       " '21 April 2024',\n",
       " '1 May 2024',\n",
       " '3 May 2024',\n",
       " '27 April 2024',\n",
       " '22 August 2019',\n",
       " '10 March 2024',\n",
       " '8 April 2024',\n",
       " '9 April 2024',\n",
       " '5 April 2024',\n",
       " '7 May 2024']"
      ]
     },
     "execution_count": 7,
     "metadata": {},
     "output_type": "execute_result"
    }
   ],
   "source": [
    "customer_review_dates = []\n",
    "customer_review_dates_raw = soup.find_all(class_='review-date')\n",
    "for i in customer_review_dates_raw:\n",
    "    customer_review_dates.append(i.text.removeprefix('Reviewed in India on '))\n",
    "customer_review_dates"
   ]
  },
  {
   "cell_type": "markdown",
   "id": "05e5bd02-c310-4dcd-8c2c-e8e9d3788567",
   "metadata": {},
   "source": [
    "# Getting products purchased details"
   ]
  },
  {
   "cell_type": "code",
   "execution_count": 8,
   "id": "5991ff03-6150-4902-9d93-88b78e01994a",
   "metadata": {},
   "outputs": [
    {
     "data": {
      "text/plain": [
       "['Colour: Luscious BlackStyle Name: 15 HoursVerified Purchase',\n",
       " 'Colour: Aqua BlueStyle Name: 15 HoursVerified Purchase',\n",
       " 'Colour: Luscious BlackStyle Name: 15 HRSVerified Purchase',\n",
       " 'Colour: Aqua BlueStyle Name: 15 HRSVerified Purchase',\n",
       " 'Colour: Luscious BlackStyle Name: 15 HoursVerified Purchase',\n",
       " 'Colour: Aqua BlueStyle Name: 15 HoursVerified Purchase',\n",
       " 'Colour: Luscious BlackStyle Name: 15 HoursVerified Purchase',\n",
       " 'Colour: Aqua BlueStyle Name: 15 HRSVerified Purchase',\n",
       " 'Colour: Luscious BlackStyle Name: 15 HoursVerified Purchase',\n",
       " 'Colour: Luscious BlackStyle Name: 15 HoursVerified Purchase']"
      ]
     },
     "execution_count": 8,
     "metadata": {},
     "output_type": "execute_result"
    }
   ],
   "source": [
    "customer_product_details = []\n",
    "customer_product_details_raw = soup.find_all(class_='a-row a-spacing-mini review-data review-format-strip')\n",
    "for i in customer_product_details_raw:\n",
    "    customer_product_details.append(i.text)\n",
    "customer_product_details"
   ]
  },
  {
   "cell_type": "markdown",
   "id": "da408a5b-3e07-404a-8c75-7a767a2f358b",
   "metadata": {},
   "source": [
    "# Get review title"
   ]
  },
  {
   "cell_type": "code",
   "execution_count": 9,
   "id": "0326117f-2b80-4009-8c49-5a0414b1111f",
   "metadata": {},
   "outputs": [
    {
     "data": {
      "text/plain": [
       "['boAt Rockerz 450: Wireless Excellence',\n",
       " '11 months user',\n",
       " 'Noise cancellation and durability is great',\n",
       " 'Good quality headphones',\n",
       " 'Simply Awful',\n",
       " 'A mediocre product',\n",
       " 'sound quality',\n",
       " 'Overall headphones are awesome and worth every single penny',\n",
       " 'Review at 3 to 4 day long',\n",
       " 'review']"
      ]
     },
     "execution_count": 9,
     "metadata": {},
     "output_type": "execute_result"
    }
   ],
   "source": [
    "customer_reviews_title = []\n",
    "customer_reviews_title_raw = soup.select('a[data-hook=\"review-title\"] span', class_=\"\")\n",
    "length = len(customer_reviews_title_raw)\n",
    "for i in range(length):\n",
    "    if (i + 1) % 3 == 0:\n",
    "        customer_reviews_title.append(customer_reviews_title_raw[i].text)\n",
    "customer_reviews_title"
   ]
  },
  {
   "cell_type": "markdown",
   "id": "3fcd5ca5-ba57-423f-b572-322c1b331f33",
   "metadata": {},
   "source": [
    "# Get review comments"
   ]
  },
  {
   "cell_type": "code",
   "execution_count": 18,
   "id": "5d0e8ad1-4a6f-49be-8103-8e16a299cfbb",
   "metadata": {},
   "outputs": [],
   "source": [
    "customer_review_comments = []\n",
    "customer_review_comments_raw = soup.find_all(class_='a-size-base review-text review-text-content')\n",
    "for i in customer_review_comments_raw:\n",
    "    customer_review_comments.append(i.text.replace('\\n', ''))\n",
    "#  Output hidden for pdf\n",
    "# customer_review_comments"
   ]
  },
  {
   "cell_type": "markdown",
   "id": "d6a0141d-3581-4107-9393-ef2094924ac3",
   "metadata": {},
   "source": [
    "# Get image links for the customers"
   ]
  },
  {
   "cell_type": "code",
   "execution_count": 11,
   "id": "eff454f9-8a5b-4560-a376-6fd43d4a9d2e",
   "metadata": {},
   "outputs": [
    {
     "data": {
      "text/plain": [
       "['https://images-eu.ssl-images-amazon.com/images/S/amazon-avatars-global/default._CR0,0,1024,1024_SX48_.png',\n",
       " 'https://images-eu.ssl-images-amazon.com/images/S/amazon-avatars-global/default._CR0,0,1024,1024_SX48_.png',\n",
       " 'https://images-eu.ssl-images-amazon.com/images/S/amazon-avatars-global/default._CR0,0,1024,1024_SX48_.png',\n",
       " 'https://images-eu.ssl-images-amazon.com/images/S/amazon-avatars-global/default._CR0,0,1024,1024_SX48_.png',\n",
       " 'https://images-eu.ssl-images-amazon.com/images/S/amazon-avatars-global/7b713874-6c46-4d97-855f-3b1440ad97e1._CR62,0,375,375_SX48_.jpg',\n",
       " 'https://images-eu.ssl-images-amazon.com/images/S/amazon-avatars-global/default._CR0,0,1024,1024_SX48_.png',\n",
       " 'https://images-eu.ssl-images-amazon.com/images/S/amazon-avatars-global/default._CR0,0,1024,1024_SX48_.png',\n",
       " 'https://images-eu.ssl-images-amazon.com/images/S/amazon-avatars-global/default._CR0,0,1024,1024_SX48_.png',\n",
       " 'https://images-eu.ssl-images-amazon.com/images/S/amazon-avatars-global/default._CR0,0,1024,1024_SX48_.png',\n",
       " 'https://images-eu.ssl-images-amazon.com/images/S/amazon-avatars-global/default._CR0,0,1024,1024_SX48_.png',\n",
       " 'https://images-eu.ssl-images-amazon.com/images/S/amazon-avatars-global/default._CR0,0,1024,1024_SX48_.png',\n",
       " 'https://images-eu.ssl-images-amazon.com/images/S/amazon-avatars-global/default._CR0,0,1024,1024_SX48_.png',\n",
       " 'https://images-eu.ssl-images-amazon.com/images/S/amazon-avatars-global/default._CR0,0,1024,1024_SX48_.png']"
      ]
     },
     "execution_count": 11,
     "metadata": {},
     "output_type": "execute_result"
    }
   ],
   "source": [
    "customer_images = []\n",
    "customer_images_raw = soup.select('div[class=\"a-profile-avatar\"] img', class_=\"\")\n",
    "for i in range(len(customer_images_raw)):\n",
    "    if (i + 1) % 2 == 0:\n",
    "        customer_images.append(customer_images_raw[i].get('src'))\n",
    "customer_images"
   ]
  },
  {
   "cell_type": "markdown",
   "id": "a2ac21cd-2321-47f8-80ec-c1e57b3380b6",
   "metadata": {},
   "source": [
    "# Creating dataframe"
   ]
  },
  {
   "cell_type": "code",
   "execution_count": 12,
   "id": "8f6b3927-ab33-4e20-ac7d-422898deac1c",
   "metadata": {},
   "outputs": [],
   "source": [
    "df = pd.DataFrame()"
   ]
  },
  {
   "cell_type": "code",
   "execution_count": 13,
   "id": "1b89594a-3121-4820-9291-7fb943e24460",
   "metadata": {
    "scrolled": true
   },
   "outputs": [],
   "source": [
    "# incase some data is missing\n",
    "data = [customer_names, customer_images, customer_ratings, customer_review_dates, customer_product_details, customer_reviews_title, customer_review_comments]\n",
    "mxLen = 0\n",
    "for i in data:\n",
    "    mxLen = max(len(i), mxLen)\n",
    "\n",
    "for i in data:\n",
    "    if len(i) < mxLen:\n",
    "        for j in range(mxLen-len(i)):\n",
    "            i.append(np.nan)"
   ]
  },
  {
   "cell_type": "code",
   "execution_count": 14,
   "id": "845b7813-2f48-4e6a-a8c9-446fc3b1ae62",
   "metadata": {},
   "outputs": [
    {
     "data": {
      "text/html": [
       "<div>\n",
       "<style scoped>\n",
       "    .dataframe tbody tr th:only-of-type {\n",
       "        vertical-align: middle;\n",
       "    }\n",
       "\n",
       "    .dataframe tbody tr th {\n",
       "        vertical-align: top;\n",
       "    }\n",
       "\n",
       "    .dataframe thead th {\n",
       "        text-align: right;\n",
       "    }\n",
       "</style>\n",
       "<table border=\"1\" class=\"dataframe\">\n",
       "  <thead>\n",
       "    <tr style=\"text-align: right;\">\n",
       "      <th></th>\n",
       "      <th>0</th>\n",
       "      <th>1</th>\n",
       "      <th>2</th>\n",
       "      <th>3</th>\n",
       "      <th>4</th>\n",
       "      <th>5</th>\n",
       "      <th>6</th>\n",
       "    </tr>\n",
       "  </thead>\n",
       "  <tbody>\n",
       "    <tr>\n",
       "      <th>0</th>\n",
       "      <td>Omar</td>\n",
       "      <td>https://images-eu.ssl-images-amazon.com/images...</td>\n",
       "      <td>4.1 out of 5 stars</td>\n",
       "      <td>21 April 2024</td>\n",
       "      <td>Colour: Luscious BlackStyle Name: 15 HoursVeri...</td>\n",
       "      <td>boAt Rockerz 450: Wireless Excellence</td>\n",
       "      <td>I recently purchased the boAt Rockerz 450 Blue...</td>\n",
       "    </tr>\n",
       "    <tr>\n",
       "      <th>1</th>\n",
       "      <td>Gizmofreak Reviews</td>\n",
       "      <td>https://images-eu.ssl-images-amazon.com/images...</td>\n",
       "      <td>5.0 out of 5 stars</td>\n",
       "      <td>22 August 2019</td>\n",
       "      <td>Colour: Aqua BlueStyle Name: 15 HoursVerified ...</td>\n",
       "      <td>11 months user</td>\n",
       "      <td>This product has a cool design and performance...</td>\n",
       "    </tr>\n",
       "    <tr>\n",
       "      <th>2</th>\n",
       "      <td>Omar</td>\n",
       "      <td>https://images-eu.ssl-images-amazon.com/images...</td>\n",
       "      <td>1.0 out of 5 stars</td>\n",
       "      <td>21 April 2024</td>\n",
       "      <td>Colour: Luscious BlackStyle Name: 15 HRSVerifi...</td>\n",
       "      <td>Noise cancellation and durability is great</td>\n",
       "      <td>Those who don't necessarily need earpods and l...</td>\n",
       "    </tr>\n",
       "    <tr>\n",
       "      <th>3</th>\n",
       "      <td>Das</td>\n",
       "      <td>https://images-eu.ssl-images-amazon.com/images...</td>\n",
       "      <td>5.0 out of 5 stars</td>\n",
       "      <td>1 May 2024</td>\n",
       "      <td>Colour: Aqua BlueStyle Name: 15 HRSVerified Pu...</td>\n",
       "      <td>Good quality headphones</td>\n",
       "      <td>Noise cancellation and connectivity is good th...</td>\n",
       "    </tr>\n",
       "    <tr>\n",
       "      <th>4</th>\n",
       "      <td>C Narayana</td>\n",
       "      <td>https://images-eu.ssl-images-amazon.com/images...</td>\n",
       "      <td>4.0 out of 5 stars</td>\n",
       "      <td>3 May 2024</td>\n",
       "      <td>Colour: Luscious BlackStyle Name: 15 HoursVeri...</td>\n",
       "      <td>Simply Awful</td>\n",
       "      <td>The boAt Rockerz line is boAt's super cheap li...</td>\n",
       "    </tr>\n",
       "    <tr>\n",
       "      <th>5</th>\n",
       "      <td>Amazon Customer</td>\n",
       "      <td>https://images-eu.ssl-images-amazon.com/images...</td>\n",
       "      <td>5.0 out of 5 stars</td>\n",
       "      <td>27 April 2024</td>\n",
       "      <td>Colour: Aqua BlueStyle Name: 15 HoursVerified ...</td>\n",
       "      <td>A mediocre product</td>\n",
       "      <td>The voter 550 have a very good base but it lac...</td>\n",
       "    </tr>\n",
       "    <tr>\n",
       "      <th>6</th>\n",
       "      <td>Gizmofreak Reviews</td>\n",
       "      <td>https://images-eu.ssl-images-amazon.com/images...</td>\n",
       "      <td>5.0 out of 5 stars</td>\n",
       "      <td>22 August 2019</td>\n",
       "      <td>Colour: Luscious BlackStyle Name: 15 HoursVeri...</td>\n",
       "      <td>sound quality</td>\n",
       "      <td>the sound quality was good, and bass was also ...</td>\n",
       "    </tr>\n",
       "    <tr>\n",
       "      <th>7</th>\n",
       "      <td>Deepa Pareek</td>\n",
       "      <td>https://images-eu.ssl-images-amazon.com/images...</td>\n",
       "      <td>1.0 out of 5 stars</td>\n",
       "      <td>10 March 2024</td>\n",
       "      <td>Colour: Aqua BlueStyle Name: 15 HRSVerified Pu...</td>\n",
       "      <td>Overall headphones are awesome and worth every...</td>\n",
       "      <td>The headphone is good but when i receive it fi...</td>\n",
       "    </tr>\n",
       "    <tr>\n",
       "      <th>8</th>\n",
       "      <td>Vishnu Vardhan</td>\n",
       "      <td>https://images-eu.ssl-images-amazon.com/images...</td>\n",
       "      <td>3.0 out of 5 stars</td>\n",
       "      <td>8 April 2024</td>\n",
       "      <td>Colour: Luscious BlackStyle Name: 15 HoursVeri...</td>\n",
       "      <td>Review at 3 to 4 day long</td>\n",
       "      <td>I will order this product in 1/04/2024 and del...</td>\n",
       "    </tr>\n",
       "    <tr>\n",
       "      <th>9</th>\n",
       "      <td>Deal State</td>\n",
       "      <td>https://images-eu.ssl-images-amazon.com/images...</td>\n",
       "      <td>4.0 out of 5 stars</td>\n",
       "      <td>9 April 2024</td>\n",
       "      <td>Colour: Luscious BlackStyle Name: 15 HoursVeri...</td>\n",
       "      <td>review</td>\n",
       "      <td>overall product is awesome but i personally do...</td>\n",
       "    </tr>\n",
       "  </tbody>\n",
       "</table>\n",
       "</div>"
      ],
      "text/plain": [
       "                    0                                                  1  \\\n",
       "0                Omar  https://images-eu.ssl-images-amazon.com/images...   \n",
       "1  Gizmofreak Reviews  https://images-eu.ssl-images-amazon.com/images...   \n",
       "2                Omar  https://images-eu.ssl-images-amazon.com/images...   \n",
       "3                 Das  https://images-eu.ssl-images-amazon.com/images...   \n",
       "4          C Narayana  https://images-eu.ssl-images-amazon.com/images...   \n",
       "5     Amazon Customer  https://images-eu.ssl-images-amazon.com/images...   \n",
       "6  Gizmofreak Reviews  https://images-eu.ssl-images-amazon.com/images...   \n",
       "7        Deepa Pareek  https://images-eu.ssl-images-amazon.com/images...   \n",
       "8      Vishnu Vardhan  https://images-eu.ssl-images-amazon.com/images...   \n",
       "9          Deal State  https://images-eu.ssl-images-amazon.com/images...   \n",
       "\n",
       "                    2               3  \\\n",
       "0  4.1 out of 5 stars   21 April 2024   \n",
       "1  5.0 out of 5 stars  22 August 2019   \n",
       "2  1.0 out of 5 stars   21 April 2024   \n",
       "3  5.0 out of 5 stars      1 May 2024   \n",
       "4  4.0 out of 5 stars      3 May 2024   \n",
       "5  5.0 out of 5 stars   27 April 2024   \n",
       "6  5.0 out of 5 stars  22 August 2019   \n",
       "7  1.0 out of 5 stars   10 March 2024   \n",
       "8  3.0 out of 5 stars    8 April 2024   \n",
       "9  4.0 out of 5 stars    9 April 2024   \n",
       "\n",
       "                                                   4  \\\n",
       "0  Colour: Luscious BlackStyle Name: 15 HoursVeri...   \n",
       "1  Colour: Aqua BlueStyle Name: 15 HoursVerified ...   \n",
       "2  Colour: Luscious BlackStyle Name: 15 HRSVerifi...   \n",
       "3  Colour: Aqua BlueStyle Name: 15 HRSVerified Pu...   \n",
       "4  Colour: Luscious BlackStyle Name: 15 HoursVeri...   \n",
       "5  Colour: Aqua BlueStyle Name: 15 HoursVerified ...   \n",
       "6  Colour: Luscious BlackStyle Name: 15 HoursVeri...   \n",
       "7  Colour: Aqua BlueStyle Name: 15 HRSVerified Pu...   \n",
       "8  Colour: Luscious BlackStyle Name: 15 HoursVeri...   \n",
       "9  Colour: Luscious BlackStyle Name: 15 HoursVeri...   \n",
       "\n",
       "                                                   5  \\\n",
       "0              boAt Rockerz 450: Wireless Excellence   \n",
       "1                                     11 months user   \n",
       "2         Noise cancellation and durability is great   \n",
       "3                            Good quality headphones   \n",
       "4                                       Simply Awful   \n",
       "5                                 A mediocre product   \n",
       "6                                      sound quality   \n",
       "7  Overall headphones are awesome and worth every...   \n",
       "8                          Review at 3 to 4 day long   \n",
       "9                                             review   \n",
       "\n",
       "                                                   6  \n",
       "0  I recently purchased the boAt Rockerz 450 Blue...  \n",
       "1  This product has a cool design and performance...  \n",
       "2  Those who don't necessarily need earpods and l...  \n",
       "3  Noise cancellation and connectivity is good th...  \n",
       "4  The boAt Rockerz line is boAt's super cheap li...  \n",
       "5  The voter 550 have a very good base but it lac...  \n",
       "6  the sound quality was good, and bass was also ...  \n",
       "7  The headphone is good but when i receive it fi...  \n",
       "8  I will order this product in 1/04/2024 and del...  \n",
       "9  overall product is awesome but i personally do...  "
      ]
     },
     "execution_count": 14,
     "metadata": {},
     "output_type": "execute_result"
    }
   ],
   "source": [
    "df = pd.DataFrame(data).T\n",
    "df.dropna()"
   ]
  },
  {
   "cell_type": "code",
   "execution_count": 16,
   "id": "96dcd4f7-71b0-4d72-9e52-8133722f253d",
   "metadata": {},
   "outputs": [],
   "source": [
    "df.to_csv('customer reviews.csv')"
   ]
  },
  {
   "cell_type": "code",
   "execution_count": null,
   "id": "03a9bbf4-2fad-47b3-9115-ea7a928d9837",
   "metadata": {},
   "outputs": [],
   "source": []
  }
 ],
 "metadata": {
  "kernelspec": {
   "display_name": "Python 3 (ipykernel)",
   "language": "python",
   "name": "python3"
  },
  "language_info": {
   "codemirror_mode": {
    "name": "ipython",
    "version": 3
   },
   "file_extension": ".py",
   "mimetype": "text/x-python",
   "name": "python",
   "nbconvert_exporter": "python",
   "pygments_lexer": "ipython3",
   "version": "3.10.1"
  }
 },
 "nbformat": 4,
 "nbformat_minor": 5
}
